{
 "cells": [
  {
   "cell_type": "code",
   "execution_count": 97,
   "metadata": {},
   "outputs": [],
   "source": [
    "import os\n",
    "from dotenv import load_dotenv\n",
    "from langchain_community.document_loaders import PyPDFLoader\n",
    "from langchain_text_splitters import RecursiveCharacterTextSplitter\n",
    "import ollama\n",
    "import chromadb\n",
    "import json"
   ]
  },
  {
   "cell_type": "code",
   "execution_count": 17,
   "metadata": {},
   "outputs": [],
   "source": [
    "load_dotenv()\n",
    "os.environ['LANGCHAIN_TRACING_V2'] = os.getenv('LANGCHAIN_TRACING_V2')\n",
    "os.environ['LANGCHAIN_ENDPOINT'] = os.getenv('LANGCHAIN_ENDPOINT')\n",
    "os.environ['LANGCHAIN_API_KEY'] = os.getenv('LANGCHAIN_API_KEY')\n",
    "os.environ['LANGCHAIN_PROJECT'] = os.getenv('LANGCHAIN_PROJECT')"
   ]
  },
  {
   "cell_type": "code",
   "execution_count": 86,
   "metadata": {},
   "outputs": [],
   "source": [
    "loader = PyPDFLoader(\"../common_files/IPC.pdf\")\n",
    "pages = loader.load_and_split()\n",
    "# full_pdf_text = \"\"\n",
    "# for each in pages:\n",
    "#     full_pdf_text += each.page_content + \" \"\n",
    "all_pages_text = [] \n",
    "full_pdf_text = []\n",
    "for each in pages:\n",
    "    full_pdf_text.append(each.page_content)"
   ]
  },
  {
   "cell_type": "code",
   "execution_count": 87,
   "metadata": {},
   "outputs": [],
   "source": [
    "text_splitter = RecursiveCharacterTextSplitter(\n",
    "    chunk_size=1000,\n",
    "    chunk_overlap=100\n",
    ")"
   ]
  },
  {
   "cell_type": "code",
   "execution_count": 88,
   "metadata": {},
   "outputs": [
    {
     "name": "stdout",
     "output_type": "stream",
     "text": [
      "620\n"
     ]
    }
   ],
   "source": [
    "texts = text_splitter.create_documents(full_pdf_text)\n",
    "print(len(texts))"
   ]
  },
  {
   "cell_type": "code",
   "execution_count": 89,
   "metadata": {},
   "outputs": [
    {
     "data": {
      "text/plain": [
       "[Document(page_content='1 \\n THE INDIAN PENAL CODE  \\n___________  \\nARRANGEMENT OF SECTIONS  \\n__________  \\nCHAPTER I  \\nINTRODUCTION  \\nPREAMBLE  \\nSECTIONS  \\n1. Title and extent of operation of the Code.  \\n2. Punishment of offences committed within India.  \\n3. Punishment of offences committed beyond, but which by law may be tried within, India.  \\n4. Extension of Code to extra -territorial offences.  \\n5. Certain laws not to be affected by this Act.  \\nCHAPTER II  \\nGENERAL  EXPLANATIONS  \\n6. Definitions in the Code to be understood subject to exceptions.  \\n7. Sense of expression once explained.  \\n8. Gender.  \\n9. Number.  \\n10. “Man”.  “Woman”.  \\n11. “Person”.  \\n12.  “Public”.  \\n13. [Omitted .]. \\n14. “Servant of Government”.  \\n15. [Repealed. ]. \\n16. [Repealed .]. \\n17. “Government”.  \\n18. “India”.  \\n19. “Judge”.  \\n20. “Court of Justice”.  \\n21. “Public  servant”.  \\n22. “Moveable property”.  \\n23. “Wrongful gain”.  \\n“Wrongful loss”.  \\nGainin g wrongfully/ Losing wrongfully.  \\n24.  “Dishonestly”.  \\n25. “Fraudulently”.'),\n",
       " Document(page_content='Gainin g wrongfully/ Losing wrongfully.  \\n24.  “Dishonestly”.  \\n25. “Fraudulently”.  \\n26. “Reason to believe”.  \\n27. Property in posse ssion of wife, clerk or servant . \\n28. “Counterfeit”.  \\n29. “Document”.  \\n29A. “Electronic record ”. \\n30. “Valuable security”.  \\n31. “A will”.  \\n32. Words referring to acts include illegal omissions.  \\n33. “Act”.  \\n“Omission”.  \\n34. Acts done by several persons in furtherance of common intention.  \\n35. When such an act is criminal by reason of its being done with a criminal knowledge or intention.  \\n36. Effect caused partly by act and partly by omission.  \\n37. Co-operation by doing one of several acts constituting an offence.'),\n",
       " Document(page_content='2 \\n SECTIONS   \\n38. Persons concerned in criminal act may be guilty of different offences.  \\n39. “Voluntarily”.  \\n40. “Offence”.  \\n41. “Special law”.  \\n42. “Local law”.  \\n43. “Illegal” . \\n“Legally bound to do”.  \\n44. “Injury”.  \\n45. “Life”.  \\n46. “Death”.  \\n47. “Animal”.  \\n48. “Vessel”.  \\n49. “Year”.  \\n“Month”.  \\n50. “Section”.  \\n51. “Oath”.  \\n52. “Good faith”. \\n52A. “Harbour-“. \\n \\nCHAPTER III  \\nOF PUNISHMENTS  \\n53. Punishments.  \\n53A. Construction of reference to transportation.  \\n54. Commutation of sentence of death.  \\n55. Commutation of sentence of imprisonment for life.  \\n55A. Definition of \"appropriate Government\".  \\n56. [Repealed .]. \\n57. Fractions of terms of punishment.  \\n58. [Repealed. ]. \\n59. [Repealed .]. \\n60. Sentence may be (in certain cases of imprisonment) wholly or partly rigorous of simple.  \\n61. [Repealed. ]. \\n62. [Repealed .]. \\n63. Amount of fine.  \\n64. Sentence of imprisonment for non -payment of fine.'),\n",
       " Document(page_content='62. [Repealed .]. \\n63. Amount of fine.  \\n64. Sentence of imprisonment for non -payment of fine.  \\n65. Limit to imprisonment for non -payment of fine, when imprisonment and fine awardable.  \\n66. Description of imprisonment for non -payment of fine.  \\n67. Imprisonment for non -payment of fine, when offence punishable with fine only.  \\n68. Imprisonment to terminate on payment of fine.  \\n69. Termination of imprisonment on payment of proportional part of fine.  \\n70. Fine leviable within six years, of  during imprisonment.  Death not to discharge property from liability.  \\n71. Limit of punishment of offence made up of several offences.  \\n72. Punishment of person guilty of one of several offences, the judgment stating that is doubtful of which.  \\n73. Solitary confinement.  \\n74. Limit of solitary confinement.  \\n75. Enhanced punishment for certain offences under Chapter XII or Chapter XVII after previous \\nconviction.  \\nCHAPTER IV  \\nGENERAL  EXCEPTIONS'),\n",
       " Document(page_content='conviction.  \\nCHAPTER IV  \\nGENERAL  EXCEPTIONS  \\n76. Act done by a person bound, or by mistake of fact believing himself bound, by law.  \\n77. Act of Judge when acting judicially.  \\n78. Act done pursuant to the judgment or order of Court.  \\n79. Act done by a person justified, or by mistake of fact believing himself justified, by law.  \\n80. Accident in doing a lawful act.  \\n81. Act likely to cause harm , but done without criminal intent, and to prevent other harm.')]"
      ]
     },
     "execution_count": 89,
     "metadata": {},
     "output_type": "execute_result"
    }
   ],
   "source": [
    "texts[:5]"
   ]
  },
  {
   "cell_type": "code",
   "execution_count": 95,
   "metadata": {},
   "outputs": [],
   "source": [
    "client = chromadb.Client()\n",
    "collection = client.create_collection(name=\"ipc_docs\")"
   ]
  },
  {
   "cell_type": "code",
   "execution_count": 100,
   "metadata": {},
   "outputs": [],
   "source": [
    "# store each document in a vector embedding database\n",
    "for i, d in enumerate(texts):\n",
    "  response = ollama.embeddings(model=\"mxbai-embed-large\", prompt=d.page_content)\n",
    "  embedding = response[\"embedding\"]\n",
    "  collection.add(\n",
    "    ids=[str(i)],\n",
    "    embeddings=[embedding],\n",
    "    documents=[d.page_content]\n",
    "  )"
   ]
  },
  {
   "cell_type": "code",
   "execution_count": 103,
   "metadata": {},
   "outputs": [],
   "source": [
    "# an example prompt\n",
    "prompt = \"What is Punishment for dacoity?\"\n",
    "\n",
    "# generate an embedding for the prompt and retrieve the most relevant doc\n",
    "response = ollama.embeddings(\n",
    "  prompt=prompt,\n",
    "  model=\"mxbai-embed-large\"\n",
    ")\n",
    "results = collection.query(\n",
    "  query_embeddings=[response[\"embedding\"]],\n",
    "  n_results=1\n",
    ")\n",
    "data = results['documents']"
   ]
  },
  {
   "cell_type": "code",
   "execution_count": 104,
   "metadata": {},
   "outputs": [
    {
     "data": {
      "text/plain": [
       "[['imprisonment with which such offender shall be punished shal l not be less than seven years.  \\n399. Making preparation to commit dacoity .—Whoever makes any preparation for committing \\ndacoity, shall be punished with rigorous imprisonment for a term which may extend to ten years, an d shall  \\nalso be liable to fine.']]"
      ]
     },
     "execution_count": 104,
     "metadata": {},
     "output_type": "execute_result"
    }
   ],
   "source": [
    "data"
   ]
  },
  {
   "cell_type": "code",
   "execution_count": 106,
   "metadata": {},
   "outputs": [
    {
     "name": "stdout",
     "output_type": "stream",
     "text": [
      "According to the data provided, there are two related punishments mentioned:\n",
      "\n",
      "1. For \"imprisonment with which such offender shall be punished shal l not be less than seven years.\"\n",
      "2. For \"Making preparation to commit dacoity\" - The punishment is:\n",
      "\t* Rigorous imprisonment for a term that may extend up to 10 years.\n",
      "\t* Also liable to fine.\n",
      "\n",
      "Note that these punishments are not directly related to the act of dacoity itself, but rather to the making of preparations to commit it and the actual commission of the crime.\n"
     ]
    }
   ],
   "source": [
    "# generate a response combining the prompt and data we retrieved in step 2\n",
    "output = ollama.generate(\n",
    "  model=\"llama3\",\n",
    "  prompt=f\"Using this data: {data}. Respond to this prompt: {prompt}\"\n",
    ")\n",
    "\n",
    "print(output['response'])"
   ]
  },
  {
   "cell_type": "code",
   "execution_count": null,
   "metadata": {},
   "outputs": [],
   "source": []
  }
 ],
 "metadata": {
  "kernelspec": {
   "display_name": ".venv",
   "language": "python",
   "name": "python3"
  },
  "language_info": {
   "codemirror_mode": {
    "name": "ipython",
    "version": 3
   },
   "file_extension": ".py",
   "mimetype": "text/x-python",
   "name": "python",
   "nbconvert_exporter": "python",
   "pygments_lexer": "ipython3",
   "version": "3.9.6"
  }
 },
 "nbformat": 4,
 "nbformat_minor": 2
}
